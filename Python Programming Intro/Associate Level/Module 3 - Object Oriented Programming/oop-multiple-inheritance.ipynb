{
 "cells": [
  {
   "cell_type": "code",
   "execution_count": 5,
   "metadata": {},
   "outputs": [],
   "source": [
    "class Vehicle():\n",
    "    def go(self):\n",
    "        print('Going!')\n",
    "\n",
    "class Flyable():\n",
    "    def fly(self):\n",
    "        print('Flying!')\n",
    "\n",
    "class Airplane(Vehicle, Flyable):\n",
    "    pass"
   ]
  },
  {
   "cell_type": "code",
   "execution_count": 6,
   "metadata": {},
   "outputs": [
    {
     "name": "stdout",
     "output_type": "stream",
     "text": [
      "Going!\n",
      "Flying!\n"
     ]
    }
   ],
   "source": [
    "my_plane = Airplane()\n",
    "my_plane.go()\n",
    "my_plane.fly()"
   ]
  },
  {
   "cell_type": "code",
   "execution_count": 7,
   "metadata": {},
   "outputs": [],
   "source": [
    "class Vehicle():\n",
    "    def go(self):\n",
    "        print('Going!')\n",
    "    \n",
    "    def introduce(self):\n",
    "        print('I am a Vehicle')\n",
    "\n",
    "class Flyable():\n",
    "    def fly(self):\n",
    "        print('Flying!')\n",
    "    \n",
    "    def introduce(self):\n",
    "        print('I am a Flyable')\n",
    "\n",
    "class Airplane(Vehicle, Flyable):\n",
    "    pass"
   ]
  },
  {
   "cell_type": "code",
   "execution_count": 8,
   "metadata": {},
   "outputs": [
    {
     "name": "stdout",
     "output_type": "stream",
     "text": [
      "I am a Vehicle\n"
     ]
    }
   ],
   "source": [
    "my_plane = Airplane()\n",
    "my_plane.introduce() # Python's Method Resolution Order (MRO) states to look in superclasses from left to right"
   ]
  },
  {
   "cell_type": "code",
   "execution_count": 9,
   "metadata": {},
   "outputs": [],
   "source": [
    "class Vehicle():\n",
    "    def go(self):\n",
    "        print('Going!')\n",
    "    \n",
    "    def introduce(self):\n",
    "        print('I am a Vehicle')\n",
    "\n",
    "class Flyable():\n",
    "    def fly(self):\n",
    "        print('Flying!')\n",
    "    \n",
    "    def introduce(self):\n",
    "        print('I am a Flyable')\n",
    "\n",
    "class Airplane(Flyable, Vehicle):\n",
    "    pass"
   ]
  },
  {
   "cell_type": "code",
   "execution_count": 10,
   "metadata": {},
   "outputs": [
    {
     "name": "stdout",
     "output_type": "stream",
     "text": [
      "I am a Flyable\n"
     ]
    }
   ],
   "source": [
    "my_plane = Airplane()\n",
    "my_plane.introduce()"
   ]
  },
  {
   "cell_type": "code",
   "execution_count": 11,
   "metadata": {},
   "outputs": [],
   "source": [
    "class Vehicle():\n",
    "    def go(self):\n",
    "        print('Going!')\n",
    "    \n",
    "    def introduce(self):\n",
    "        print('I am a Vehicle')\n",
    "\n",
    "class Flyable():\n",
    "    def fly(self):\n",
    "        print('Flying!')\n",
    "    \n",
    "    def introduce(self):\n",
    "        print('I am a Flyable')\n",
    "\n",
    "class Airplane(Flyable, Vehicle):\n",
    "    def introduce(self):\n",
    "        print('I am an Airplane')"
   ]
  },
  {
   "cell_type": "code",
   "execution_count": 13,
   "metadata": {},
   "outputs": [
    {
     "name": "stdout",
     "output_type": "stream",
     "text": [
      "I am an Airplane\n"
     ]
    }
   ],
   "source": [
    "my_plane = Airplane()\n",
    "my_plane.introduce() # MRO also makes Python try to find the method in its own class first"
   ]
  }
 ],
 "metadata": {
  "kernelspec": {
   "display_name": "Python 3",
   "language": "python",
   "name": "python3"
  },
  "language_info": {
   "codemirror_mode": {
    "name": "ipython",
    "version": 3
   },
   "file_extension": ".py",
   "mimetype": "text/x-python",
   "name": "python",
   "nbconvert_exporter": "python",
   "pygments_lexer": "ipython3",
   "version": "3.11.9"
  }
 },
 "nbformat": 4,
 "nbformat_minor": 2
}
