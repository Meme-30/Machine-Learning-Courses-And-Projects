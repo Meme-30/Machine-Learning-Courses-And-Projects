{
 "cells": [
  {
   "cell_type": "code",
   "execution_count": 1,
   "metadata": {},
   "outputs": [],
   "source": [
    "class Vehicle():\n",
    "    def show_power_type(self):\n",
    "        print('I can use power from various sources')\n",
    "\n",
    "class ElectricVehicle():\n",
    "    def show_power_type(self):\n",
    "        print('I can use power from electricity')\n",
    "\n",
    "class PetrolVehicle():\n",
    "    def show_power_type(self):\n",
    "        print('I can use power from petrol')\n",
    "\n",
    "class HybridCar(ElectricVehicle, PetrolVehicle):\n",
    "    pass"
   ]
  },
  {
   "cell_type": "code",
   "execution_count": 2,
   "metadata": {},
   "outputs": [
    {
     "name": "stdout",
     "output_type": "stream",
     "text": [
      "I can use power from electricity\n"
     ]
    }
   ],
   "source": [
    "my_toyota_yaris = HybridCar()\n",
    "my_toyota_yaris.show_power_type()"
   ]
  },
  {
   "cell_type": "code",
   "execution_count": 3,
   "metadata": {},
   "outputs": [],
   "source": [
    "class Vehicle():\n",
    "    def show_power_type(self):\n",
    "        print('I can use power from various sources')\n",
    "\n",
    "class ElectricVehicle():\n",
    "    def show_power_type(self):\n",
    "        print('I can use power from electricity')\n",
    "\n",
    "class PetrolVehicle():\n",
    "    def show_power_type(self):\n",
    "        print('I can use power from petrol')\n",
    "\n",
    "class HybridCar(PetrolVehicle, ElectricVehicle):\n",
    "    pass"
   ]
  },
  {
   "cell_type": "code",
   "execution_count": 4,
   "metadata": {},
   "outputs": [
    {
     "name": "stdout",
     "output_type": "stream",
     "text": [
      "I can use power from petrol\n"
     ]
    }
   ],
   "source": [
    "my_toyota_yaris = HybridCar()\n",
    "my_toyota_yaris.show_power_type()"
   ]
  }
 ],
 "metadata": {
  "kernelspec": {
   "display_name": "Python 3",
   "language": "python",
   "name": "python3"
  },
  "language_info": {
   "codemirror_mode": {
    "name": "ipython",
    "version": 3
   },
   "file_extension": ".py",
   "mimetype": "text/x-python",
   "name": "python",
   "nbconvert_exporter": "python",
   "pygments_lexer": "ipython3",
   "version": "3.11.9"
  }
 },
 "nbformat": 4,
 "nbformat_minor": 2
}
