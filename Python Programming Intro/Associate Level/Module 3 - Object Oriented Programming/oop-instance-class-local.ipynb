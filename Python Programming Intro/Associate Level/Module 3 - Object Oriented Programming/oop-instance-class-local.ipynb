{
 "cells": [
  {
   "cell_type": "code",
   "execution_count": 5,
   "metadata": {},
   "outputs": [
    {
     "name": "stdout",
     "output_type": "stream",
     "text": [
      "low medium high\n",
      "The house at 12 Lexington St, Soho has an area of 130 and costs 540000\n",
      "1\n"
     ]
    }
   ],
   "source": [
    "class House():\n",
    "    counter = 0\n",
    "    def __init__(self, address, area, price):\n",
    "        self.address = address\n",
    "        self.area = area\n",
    "        self.price = price\n",
    "        House.counter += 1\n",
    "\n",
    "        House.quality = 'low' # Class variable\n",
    "        self.quality = 'medium' # Instance variable\n",
    "        quality = 'high' #Local variable\n",
    "\n",
    "        print(House.quality, self.quality, quality)\n",
    "    \n",
    "    def present(self):\n",
    "        print('The house at', self.address, 'has an area of', self.area, 'and costs', self.price)\n",
    "\n",
    "soho_house = House('12 Lexington St, Soho', 130, 540000)\n",
    "soho_house.present()\n",
    "print(House.counter)"
   ]
  },
  {
   "cell_type": "code",
   "execution_count": 6,
   "metadata": {},
   "outputs": [
    {
     "name": "stdout",
     "output_type": "stream",
     "text": [
      "medium\n",
      "low\n"
     ]
    }
   ],
   "source": [
    "print(soho_house.quality)\n",
    "print(House.quality)"
   ]
  }
 ],
 "metadata": {
  "kernelspec": {
   "display_name": "Python 3",
   "language": "python",
   "name": "python3"
  },
  "language_info": {
   "codemirror_mode": {
    "name": "ipython",
    "version": 3
   },
   "file_extension": ".py",
   "mimetype": "text/x-python",
   "name": "python",
   "nbconvert_exporter": "python",
   "pygments_lexer": "ipython3",
   "version": "3.11.9"
  }
 },
 "nbformat": 4,
 "nbformat_minor": 2
}
