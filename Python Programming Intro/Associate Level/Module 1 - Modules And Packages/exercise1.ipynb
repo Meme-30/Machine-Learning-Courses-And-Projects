{
 "cells": [
  {
   "cell_type": "code",
   "execution_count": 13,
   "metadata": {},
   "outputs": [],
   "source": [
    "import random\n",
    "\n",
    "def generate_tickets(ticket_count, max_number):\n",
    "    orig_list = []\n",
    "    for i in range(0, max_number):\n",
    "        orig_list.append(i)\n",
    "    new_list = random.sample(orig_list, ticket_count)\n",
    "    selected = random.sample(new_list, 1)[0]\n",
    "    return new_list, selected"
   ]
  },
  {
   "cell_type": "code",
   "execution_count": 14,
   "metadata": {},
   "outputs": [
    {
     "name": "stdout",
     "output_type": "stream",
     "text": [
      "([1, 0, 5, 3, 8], 8)\n"
     ]
    }
   ],
   "source": [
    "print(generate_tickets(5, 10))"
   ]
  }
 ],
 "metadata": {
  "kernelspec": {
   "display_name": "Python 3",
   "language": "python",
   "name": "python3"
  },
  "language_info": {
   "codemirror_mode": {
    "name": "ipython",
    "version": 3
   },
   "file_extension": ".py",
   "mimetype": "text/x-python",
   "name": "python",
   "nbconvert_exporter": "python",
   "pygments_lexer": "ipython3",
   "version": "3.11.9"
  }
 },
 "nbformat": 4,
 "nbformat_minor": 2
}
