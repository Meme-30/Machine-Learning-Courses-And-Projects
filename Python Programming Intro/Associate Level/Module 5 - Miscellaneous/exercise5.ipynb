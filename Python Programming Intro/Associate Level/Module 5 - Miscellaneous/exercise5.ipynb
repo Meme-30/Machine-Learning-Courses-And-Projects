{
 "cells": [
  {
   "cell_type": "code",
   "execution_count": 23,
   "metadata": {},
   "outputs": [],
   "source": [
    "def count_occurences(file_name, word):\n",
    "    try:\n",
    "        stream = open(file_name)\n",
    "        occurences = 0\n",
    "        content = stream.read()\n",
    "        content = content.lower()\n",
    "        words = content.replace('.', ' ').replace(',', ' ').split()\n",
    "        word = word.lower()\n",
    "        for entry in words:\n",
    "            if entry == word:\n",
    "                occurences += 1\n",
    "        stream.close()\n",
    "        return occurences\n",
    "    except Exception as e:\n",
    "        print('An error occurred: ', e)"
   ]
  },
  {
   "cell_type": "code",
   "execution_count": 25,
   "metadata": {},
   "outputs": [
    {
     "name": "stdout",
     "output_type": "stream",
     "text": [
      "Number of occurences of 'bit' in first_text_file = 4\n",
      "Number of occurences of 'a' in first_text_file = 4\n",
      "Number of occurences of 'the' in secomd_text_file = 16\n"
     ]
    }
   ],
   "source": [
    "print('Number of occurences of \\'bit\\' in first_text_file =', count_occurences('first_text_file.txt', 'bit'))\n",
    "print('Number of occurences of \\'a\\' in first_text_file =', count_occurences('first_text_file.txt', 'a'))\n",
    "print('Number of occurences of \\'the\\' in secomd_text_file =', count_occurences('second_text_file.txt', 'the'))"
   ]
  }
 ],
 "metadata": {
  "kernelspec": {
   "display_name": "Python 3",
   "language": "python",
   "name": "python3"
  },
  "language_info": {
   "codemirror_mode": {
    "name": "ipython",
    "version": 3
   },
   "file_extension": ".py",
   "mimetype": "text/x-python",
   "name": "python",
   "nbconvert_exporter": "python",
   "pygments_lexer": "ipython3",
   "version": "3.11.9"
  }
 },
 "nbformat": 4,
 "nbformat_minor": 2
}
