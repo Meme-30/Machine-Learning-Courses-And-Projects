{
 "cells": [
  {
   "cell_type": "code",
   "execution_count": 1,
   "metadata": {},
   "outputs": [],
   "source": [
    "def return_bigger(a, b):\n",
    "    try:\n",
    "        if b > a:\n",
    "            return b\n",
    "        else:\n",
    "            return a\n",
    "    except Exception as e:\n",
    "        print(e)\n",
    "        return None"
   ]
  },
  {
   "cell_type": "code",
   "execution_count": 2,
   "metadata": {},
   "outputs": [
    {
     "name": "stdout",
     "output_type": "stream",
     "text": [
      "'>' not supported between instances of 'str' and 'int'\n",
      "None\n"
     ]
    }
   ],
   "source": [
    "print(return_bigger(5, 'b'))"
   ]
  },
  {
   "cell_type": "code",
   "execution_count": 3,
   "metadata": {},
   "outputs": [
    {
     "name": "stdout",
     "output_type": "stream",
     "text": [
      "BaseExceptionGroup\n",
      "Exception\n",
      "GeneratorExit\n",
      "KeyboardInterrupt\n",
      "SystemExit\n",
      "CancelledError\n"
     ]
    }
   ],
   "source": [
    "for subclass in BaseException.__subclasses__():\n",
    "    print(subclass.__name__)"
   ]
  },
  {
   "cell_type": "code",
   "execution_count": 4,
   "metadata": {},
   "outputs": [
    {
     "name": "stdout",
     "output_type": "stream",
     "text": [
      "ArithmeticError\n",
      "AssertionError\n",
      "AttributeError\n",
      "BufferError\n",
      "EOFError\n",
      "ImportError\n",
      "LookupError\n",
      "MemoryError\n",
      "NameError\n",
      "OSError\n",
      "ReferenceError\n",
      "RuntimeError\n",
      "StopAsyncIteration\n",
      "StopIteration\n",
      "SyntaxError\n",
      "SystemError\n",
      "TypeError\n",
      "ValueError\n",
      "Warning\n",
      "ExceptionGroup\n",
      "_OptionError\n",
      "_Error\n",
      "error\n",
      "Error\n",
      "SubprocessError\n",
      "TokenError\n",
      "StopTokenizing\n",
      "ClassFoundException\n",
      "EndOfBlock\n",
      "TraitError\n",
      "Error\n",
      "Error\n",
      "_GiveupOnSendfile\n",
      "error\n",
      "Incomplete\n",
      "InvalidStateError\n",
      "LimitOverrunError\n",
      "QueueEmpty\n",
      "QueueFull\n",
      "error\n",
      "LZMAError\n",
      "RegistryError\n",
      "_GiveupOnFastCopy\n",
      "Empty\n",
      "Full\n",
      "ZMQBaseError\n",
      "PickleError\n",
      "_Stop\n",
      "ArgumentError\n",
      "COMError\n",
      "ReturnValueIgnoredError\n",
      "ArgumentError\n",
      "ArgumentTypeError\n",
      "ConfigError\n",
      "ConfigurableError\n",
      "ApplicationError\n",
      "KeyReuseError\n",
      "UnknownKeyError\n",
      "LeakedCallbackError\n",
      "BadYieldError\n",
      "ReturnValueIgnoredError\n",
      "Return\n",
      "InvalidPortNumber\n",
      "NoIPAddresses\n",
      "BadZipFile\n",
      "LargeZipFile\n",
      "Error\n",
      "BadEntryPoint\n",
      "NoSuchEntryPoint\n",
      "DuplicateKernelError\n",
      "ErrorDuringImport\n",
      "NotOneValueFound\n",
      "KnownIssue\n",
      "VerifierFailure\n",
      "CannotEval\n",
      "Error\n",
      "MessageError\n",
      "OptionError\n",
      "BdbQuit\n",
      "Restart\n",
      "FindCmdError\n",
      "HomeDirError\n",
      "ProfileDirError\n",
      "IPythonCoreError\n",
      "InputRejected\n",
      "GetoptError\n",
      "ErrorToken\n",
      "PrefilterError\n",
      "AliasError\n",
      "Error\n",
      "Warning\n",
      "SpaceInInput\n",
      "DOMException\n",
      "ValidationError\n",
      "EditReadOnlyBuffer\n",
      "_Retry\n",
      "InvalidLayoutError\n",
      "HeightIsUnknownError\n",
      "ExpatError\n",
      "ParseEscape\n",
      "GuardRejection\n",
      "ParserSyntaxError\n",
      "InternalParseError\n",
      "_PositionUpdatingFinished\n",
      "SimpleGetItemNotFound\n",
      "UncaughtAttributeError\n",
      "HasNoContext\n",
      "ParamIssue\n",
      "_JediError\n",
      "OnErrorLeaf\n",
      "InvalidPythonEnvironment\n",
      "HTTPException\n",
      "InteractivelyDefined\n",
      "KillEmbedded\n",
      "Error\n",
      "Error\n",
      "TimeoutExpired\n",
      "TimeoutAbandoned\n",
      "QueueEmpty\n",
      "QueueFull\n",
      "DebuggerInitializationError\n",
      "Error\n",
      "_Error\n",
      "UnableToResolveVariableException\n",
      "InvalidTypeInArgsException\n"
     ]
    }
   ],
   "source": [
    "for subclass in Exception.__subclasses__():\n",
    "    print(subclass.__name__)"
   ]
  },
  {
   "cell_type": "code",
   "execution_count": 5,
   "metadata": {},
   "outputs": [
    {
     "name": "stdout",
     "output_type": "stream",
     "text": [
      "()\n"
     ]
    }
   ],
   "source": [
    "try:\n",
    "    raise Exception\n",
    "except Exception as e:\n",
    "    print(e.args)"
   ]
  },
  {
   "cell_type": "code",
   "execution_count": 6,
   "metadata": {},
   "outputs": [
    {
     "name": "stdout",
     "output_type": "stream",
     "text": [
      "('I do not like it',)\n"
     ]
    }
   ],
   "source": [
    "try:\n",
    "    raise Exception('I do not like it')\n",
    "except Exception as e:\n",
    "    print(e.args)"
   ]
  },
  {
   "cell_type": "code",
   "execution_count": 7,
   "metadata": {},
   "outputs": [
    {
     "name": "stdout",
     "output_type": "stream",
     "text": [
      "('I do not like it', 'In fact, I do not like it at all')\n"
     ]
    }
   ],
   "source": [
    "try:\n",
    "    raise Exception('I do not like it', 'In fact, I do not like it at all')\n",
    "except Exception as e:\n",
    "    print(e.args)"
   ]
  },
  {
   "cell_type": "code",
   "execution_count": 8,
   "metadata": {},
   "outputs": [
    {
     "name": "stdout",
     "output_type": "stream",
     "text": [
      "('division by zero',)\n"
     ]
    }
   ],
   "source": [
    "try:\n",
    "    1/0\n",
    "except Exception as e:\n",
    "    print(e.args)"
   ]
  },
  {
   "cell_type": "code",
   "execution_count": 9,
   "metadata": {},
   "outputs": [
    {
     "name": "stdout",
     "output_type": "stream",
     "text": [
      "(\"'<' not supported between instances of 'int' and 'str'\",)\n"
     ]
    }
   ],
   "source": [
    "try:\n",
    "    5 < 'a'\n",
    "except Exception as e:\n",
    "    print(e.args)"
   ]
  }
 ],
 "metadata": {
  "kernelspec": {
   "display_name": "Python 3",
   "language": "python",
   "name": "python3"
  },
  "language_info": {
   "codemirror_mode": {
    "name": "ipython",
    "version": 3
   },
   "file_extension": ".py",
   "mimetype": "text/x-python",
   "name": "python",
   "nbconvert_exporter": "python",
   "pygments_lexer": "ipython3",
   "version": "3.11.9"
  }
 },
 "nbformat": 4,
 "nbformat_minor": 2
}
