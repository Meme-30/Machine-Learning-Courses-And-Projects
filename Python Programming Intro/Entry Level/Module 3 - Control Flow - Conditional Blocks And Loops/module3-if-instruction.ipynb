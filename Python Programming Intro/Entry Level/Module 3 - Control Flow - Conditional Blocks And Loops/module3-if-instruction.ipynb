{
 "cells": [
  {
   "cell_type": "code",
   "execution_count": 10,
   "metadata": {},
   "outputs": [
    {
     "name": "stdout",
     "output_type": "stream",
     "text": [
      "You are exactly 30 years old\n",
      "You will need to meet additional conditions to qualify\n"
     ]
    }
   ],
   "source": [
    "user_age = int(input('What is your age? '))\n",
    "if user_age > 30:\n",
    "    print('You are over 30 years old')\n",
    "    print('Sorry, you do not qualify')\n",
    "elif user_age == 30:\n",
    "    print('You are exactly 30 years old')\n",
    "    print('You will need to meet additional conditions to qualify')\n",
    "else:\n",
    "    print('You are 30 years old or younger')\n",
    "    print('Congratulations, you qualify!')"
   ]
  }
 ],
 "metadata": {
  "kernelspec": {
   "display_name": "Python 3",
   "language": "python",
   "name": "python3"
  },
  "language_info": {
   "codemirror_mode": {
    "name": "ipython",
    "version": 3
   },
   "file_extension": ".py",
   "mimetype": "text/x-python",
   "name": "python",
   "nbconvert_exporter": "python",
   "pygments_lexer": "ipython3",
   "version": "3.11.9"
  }
 },
 "nbformat": 4,
 "nbformat_minor": 2
}
