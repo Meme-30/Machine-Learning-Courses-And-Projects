{
 "cells": [
  {
   "cell_type": "code",
   "execution_count": null,
   "metadata": {},
   "outputs": [
    {
     "name": "stdout",
     "output_type": "stream",
     "text": [
      "It was earlier than that!\n",
      "It was earlier than that!\n",
      "It was later than that!\n",
      "Correct!\n"
     ]
    }
   ],
   "source": [
    "year = int(input('When was Python 1.0 released? '))\n",
    "while(year != 1994):\n",
    "    if year > 1994:\n",
    "        print('It was earlier than that!')\n",
    "    else:\n",
    "        print('It was later than that!')\n",
    "    year = int(input('When was Python 1.0 released? '))\n",
    "print('Correct!')"
   ]
  }
 ],
 "metadata": {
  "kernelspec": {
   "display_name": "Python 3",
   "language": "python",
   "name": "python3"
  },
  "language_info": {
   "codemirror_mode": {
    "name": "ipython",
    "version": 3
   },
   "file_extension": ".py",
   "mimetype": "text/x-python",
   "name": "python",
   "nbconvert_exporter": "python",
   "pygments_lexer": "ipython3",
   "version": "3.11.9"
  }
 },
 "nbformat": 4,
 "nbformat_minor": 2
}
