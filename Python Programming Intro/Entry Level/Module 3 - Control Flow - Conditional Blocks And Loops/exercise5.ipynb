{
 "cells": [
  {
   "cell_type": "code",
   "execution_count": 5,
   "metadata": {},
   "outputs": [
    {
     "name": "stdout",
     "output_type": "stream",
     "text": [
      "You can get a refund.\n"
     ]
    }
   ],
   "source": [
    "purchased_days = int(input('How many days ago have you purchased the item? '))\n",
    "item_use = input('Have you used the item at all [y/n]? ')\n",
    "broken = input('Has the item broken down on its own [y/n]? ')\n",
    "if (purchased_days <= 10 and item_use == 'n') or broken == 'y':\n",
    "    print('You can get a refund.')\n",
    "else:\n",
    "    print('You cannot get a refund.')"
   ]
  }
 ],
 "metadata": {
  "kernelspec": {
   "display_name": "Python 3",
   "language": "python",
   "name": "python3"
  },
  "language_info": {
   "codemirror_mode": {
    "name": "ipython",
    "version": 3
   },
   "file_extension": ".py",
   "mimetype": "text/x-python",
   "name": "python",
   "nbconvert_exporter": "python",
   "pygments_lexer": "ipython3",
   "version": "3.11.9"
  }
 },
 "nbformat": 4,
 "nbformat_minor": 2
}
