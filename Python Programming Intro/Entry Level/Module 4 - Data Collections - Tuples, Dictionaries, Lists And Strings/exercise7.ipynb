{
 "cells": [
  {
   "cell_type": "code",
   "execution_count": 1,
   "metadata": {},
   "outputs": [
    {
     "name": "stdout",
     "output_type": "stream",
     "text": [
      "Numbers of months with low spendings: 1 , normal spendings: 5 , high spendings: 6 .\n"
     ]
    }
   ],
   "source": [
    "spendings = [1346.0, 987.50, 1734.40, 2567.0, 3271.45, 2500.0, 2130.0, 2510.30, 2987.34, 3120.50, 4069.78, 1000.0]\n",
    "low_spendings = 0\n",
    "normal_spendings = 0\n",
    "high_spendings = 0\n",
    "for spending in spendings:\n",
    "    if spending < 1000.0:\n",
    "        low_spendings += 1\n",
    "    elif spending > 2500.0:\n",
    "        high_spendings += 1\n",
    "    else:\n",
    "        normal_spendings += 1\n",
    "print('Numbers of months with low spendings: ', low_spendings, ', normal spendings: ', normal_spendings, ', high spendings: ', high_spendings, '.', sep = '')"
   ]
  }
 ],
 "metadata": {
  "kernelspec": {
   "display_name": "Python 3",
   "language": "python",
   "name": "python3"
  },
  "language_info": {
   "codemirror_mode": {
    "name": "ipython",
    "version": 3
   },
   "file_extension": ".py",
   "mimetype": "text/x-python",
   "name": "python",
   "nbconvert_exporter": "python",
   "pygments_lexer": "ipython3",
   "version": "3.11.9"
  }
 },
 "nbformat": 4,
 "nbformat_minor": 2
}
