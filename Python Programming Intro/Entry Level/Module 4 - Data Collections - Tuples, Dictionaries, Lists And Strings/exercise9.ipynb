{
 "cells": [
  {
   "cell_type": "code",
   "execution_count": 4,
   "metadata": {},
   "outputs": [
    {
     "name": "stdout",
     "output_type": "stream",
     "text": [
      "Translation: Bein\n",
      "Translation: Hand\n",
      "Translation: Hand\n",
      "Translation: Gesicht\n",
      "Translation: Nase\n",
      "No match!\n",
      "Bye!\n"
     ]
    }
   ],
   "source": [
    "sample_dict = {\n",
    "    \"mouth\": \"Mund\",\n",
    "    \"finger\": \"Finger\",\n",
    "    \"leg\": \"Bein\",\n",
    "    \"hand\": \"Hand\",\n",
    "    \"face\": \"Gesicht\",\n",
    "    \"nose\": \"Nase\"\n",
    "}\n",
    "while 1 == 1:\n",
    "    word = input('Enter a word in English or EXIT: ')\n",
    "    if word == 'EXIT':\n",
    "        print('Bye!')\n",
    "        break\n",
    "    elif word in sample_dict:\n",
    "        print('Translation:', sample_dict[word])\n",
    "    else:\n",
    "        print('No match!')"
   ]
  }
 ],
 "metadata": {
  "kernelspec": {
   "display_name": "Python 3",
   "language": "python",
   "name": "python3"
  },
  "language_info": {
   "codemirror_mode": {
    "name": "ipython",
    "version": 3
   },
   "file_extension": ".py",
   "mimetype": "text/x-python",
   "name": "python",
   "nbconvert_exporter": "python",
   "pygments_lexer": "ipython3",
   "version": "3.11.9"
  }
 },
 "nbformat": 4,
 "nbformat_minor": 2
}
