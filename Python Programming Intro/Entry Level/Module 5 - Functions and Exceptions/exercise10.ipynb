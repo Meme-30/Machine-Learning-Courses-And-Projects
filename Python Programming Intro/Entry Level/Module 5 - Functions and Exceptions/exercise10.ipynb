{
 "cells": [
  {
   "cell_type": "code",
   "execution_count": 6,
   "metadata": {},
   "outputs": [],
   "source": [
    "def unique(orig_list = []):\n",
    "    new_list = []\n",
    "    for entry in orig_list:\n",
    "        if entry not in new_list:\n",
    "            new_list.append(entry)\n",
    "    return new_list"
   ]
  },
  {
   "cell_type": "code",
   "execution_count": 7,
   "metadata": {},
   "outputs": [
    {
     "name": "stdout",
     "output_type": "stream",
     "text": [
      "[1, 4, 5]\n"
     ]
    }
   ],
   "source": [
    "num_list = [1, 1, 4, 5, 1]\n",
    "print(unique(num_list))"
   ]
  },
  {
   "cell_type": "code",
   "execution_count": 8,
   "metadata": {},
   "outputs": [
    {
     "name": "stdout",
     "output_type": "stream",
     "text": [
      "['Mark', 'John', 'Anne']\n"
     ]
    }
   ],
   "source": [
    "name_list = ['Mark', 'Mark', 'John', 'Anne']\n",
    "print(unique(name_list))"
   ]
  }
 ],
 "metadata": {
  "kernelspec": {
   "display_name": "Python 3",
   "language": "python",
   "name": "python3"
  },
  "language_info": {
   "codemirror_mode": {
    "name": "ipython",
    "version": 3
   },
   "file_extension": ".py",
   "mimetype": "text/x-python",
   "name": "python",
   "nbconvert_exporter": "python",
   "pygments_lexer": "ipython3",
   "version": "3.11.9"
  }
 },
 "nbformat": 4,
 "nbformat_minor": 2
}
